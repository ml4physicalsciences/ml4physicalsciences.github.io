{
 "cells": [
  {
   "cell_type": "code",
   "execution_count": 73,
   "id": "411889d8-0395-4167-ac0c-fc31eb3e5c61",
   "metadata": {},
   "outputs": [],
   "source": [
    "import pandas as pd\n",
    "from bs4 import BeautifulSoup"
   ]
  },
  {
   "cell_type": "code",
   "execution_count": 74,
   "id": "2fed3f3d-3066-4296-ac14-430ef5315069",
   "metadata": {},
   "outputs": [],
   "source": [
    "# Reading the file using pandas\n",
    "# Assuming the delimiter is a tab and there's no header\n",
    "df = pd.read_csv('files/papers.txt', delimiter='\\t', header=None)\n",
    "id_list = df[1].values[::-1]"
   ]
  },
  {
   "cell_type": "code",
   "execution_count": 92,
   "id": "349d911a-d41c-4cc6-b234-7ec1922322d0",
   "metadata": {},
   "outputs": [],
   "source": [
    "# Path to the index.html file\n",
    "file_path = './index.html'\n",
    "\n",
    "# Open and read the index.html file\n",
    "with open(file_path, 'r', encoding='utf-8') as file:\n",
    "    html_content = file.read()\n",
    "\n",
    "# Parse the HTML\n",
    "soup = BeautifulSoup(html_content, 'html.parser')\n",
    "\n",
    "# Find the section with id 'papers'\n",
    "papers_section = soup.find('section', id='papers')\n",
    "\n",
    "cmt_ids = []\n",
    "idx = 0\n",
    "# Check if the section is found\n",
    "if papers_section:\n",
    "    # Iterate over each <tr> tag within the papers section\n",
    "    for tr in papers_section.find_all('tr'):\n",
    "        td = tr.find_all('td')\n",
    "        if td:\n",
    "            \n",
    "            # Construct new HTML part with poster link\n",
    "            new_html = f\"[<a href='https://nips.cc/media/PosterPDFs/NeurIPS%202023/{id_list[idx]}.png'>poster</a>]\"\n",
    "            \n",
    "            cmt_ids.append(td[0].get_text())\n",
    "            \n",
    "            # Convert the second td to a string\n",
    "            td_html = str(td[1])\n",
    "\n",
    "            # Find the position right after the 'paper' link's closing bracket\n",
    "            closing_bracket_pos = td_html.find('</a>') + len('</a>')\n",
    "            bracket_pos = td_html.find(']', closing_bracket_pos)\n",
    "\n",
    "            if bracket_pos != -1:  # Ensure the closing square bracket was found\n",
    "                # Insert the 'poster' link\n",
    "                updated_td_html = td_html[:bracket_pos + 1] + new_html + td_html[bracket_pos + 1:]\n",
    "\n",
    "                # Replace the old td with new content\n",
    "                td[1].replace_with(BeautifulSoup(updated_td_html, 'html.parser'))\n",
    "            \n",
    "            idx += 1\n",
    "            \n",
    "        td_elements = tr.find_all('td')\n",
    "        td_content = ''.join(str(td) for td in td_elements)\n",
    "        print(f\"<tr>{td_content}</tr>\")\n",
    "else:\n",
    "    print(\"Section with id 'papers' not found in the HTML file.\")"
   ]
  },
  {
   "cell_type": "code",
   "execution_count": 76,
   "id": "05f2c409-6daf-42d9-ac71-cddbf7b8373e",
   "metadata": {},
   "outputs": [],
   "source": [
    "import requests\n",
    "\n",
    "def is_dead_link(url):\n",
    "    try:\n",
    "        response = requests.head(url, allow_redirects=True, timeout=10)\n",
    "        return response.status_code != 200\n",
    "    except requests.RequestException:\n",
    "        return True"
   ]
  },
  {
   "cell_type": "code",
   "execution_count": 94,
   "id": "2d57d612-495e-414c-9e5f-2bed9087f1a1",
   "metadata": {},
   "outputs": [
    {
     "data": {
      "application/vnd.jupyter.widget-view+json": {
       "model_id": "9e9c6ff01fde4a79832415fee26aa560",
       "version_major": 2,
       "version_minor": 0
      },
      "text/plain": [
       "  0%|          | 0/191 [00:00<?, ?it/s]"
      ]
     },
     "metadata": {},
     "output_type": "display_data"
    }
   ],
   "source": [
    "from tqdm.notebook import tqdm\n",
    "\n",
    "dead_list = []\n",
    "for id in tqdm(id_list):\n",
    "    link = f\"https://nips.cc/media/PosterPDFs/NeurIPS%202023/{id}.png\"\n",
    "    dead_list.append(is_dead_link(link))"
   ]
  },
  {
   "cell_type": "code",
   "execution_count": 95,
   "id": "29d709e6-0a92-45d1-ae24-8abf0b2ea658",
   "metadata": {},
   "outputs": [
    {
     "data": {
      "text/plain": [
       "18"
      ]
     },
     "execution_count": 95,
     "metadata": {},
     "output_type": "execute_result"
    }
   ],
   "source": [
    "sum(dead_list)"
   ]
  },
  {
   "cell_type": "code",
   "execution_count": 99,
   "id": "94cbb482-384a-4514-84d1-d31a54036848",
   "metadata": {},
   "outputs": [
    {
     "data": {
      "text/plain": [
       "array([['10'],\n",
       "       ['11'],\n",
       "       ['15'],\n",
       "       ['18'],\n",
       "       ['27'],\n",
       "       ['57'],\n",
       "       ['94'],\n",
       "       ['138'],\n",
       "       ['151'],\n",
       "       ['160'],\n",
       "       ['168'],\n",
       "       ['187'],\n",
       "       ['200'],\n",
       "       ['211'],\n",
       "       ['229'],\n",
       "       ['241'],\n",
       "       ['242'],\n",
       "       ['248']], dtype='<U3')"
      ]
     },
     "execution_count": 99,
     "metadata": {},
     "output_type": "execute_result"
    }
   ],
   "source": [
    "import numpy as np\n",
    "np.array(cmt_ids)[np.argwhere(dead_list)]"
   ]
  },
  {
   "cell_type": "code",
   "execution_count": null,
   "id": "3502c11f-27f3-402e-a300-235eb99fe97e",
   "metadata": {},
   "outputs": [],
   "source": []
  }
 ],
 "metadata": {
  "kernelspec": {
   "display_name": "Python 3 (ipykernel)",
   "language": "python",
   "name": "python3"
  },
  "language_info": {
   "codemirror_mode": {
    "name": "ipython",
    "version": 3
   },
   "file_extension": ".py",
   "mimetype": "text/x-python",
   "name": "python",
   "nbconvert_exporter": "python",
   "pygments_lexer": "ipython3",
   "version": "3.9.13"
  }
 },
 "nbformat": 4,
 "nbformat_minor": 5
}
